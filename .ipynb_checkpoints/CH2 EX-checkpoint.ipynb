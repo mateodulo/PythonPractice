{
 "cells": [
  {
   "cell_type": "markdown",
   "id": "3496a18f",
   "metadata": {},
   "source": [
    " Chapter 2 Exercises"
   ]
  },
  {
   "cell_type": "markdown",
   "id": "6a1aedd8",
   "metadata": {},
   "source": [
    "# Algorithm Workbench - #5 \n",
    "Were presented to assign a statement that shows the sum of 10 and 14 to the Variable total. \n",
    "\n",
    "After executing this statement, the variable total will hold the value 24, which is the sum of 10 and 14. You can then use the total variable in your program as needed."
   ]
  },
  {
   "cell_type": "markdown",
   "id": "49393560",
   "metadata": {},
   "source": [
    "5. Write a Python statement that assigns the sum of 10 and 14 to the variable Total. \n"
   ]
  },
  {
   "cell_type": "code",
   "execution_count": 2,
   "id": "ec66bc11",
   "metadata": {},
   "outputs": [],
   "source": [
    "total = 10 + 14\n",
    "\n",
    "#total is our variable that shows the sum of 10 and 14. "
   ]
  },
  {
   "cell_type": "markdown",
   "id": "ad8bbd5d",
   "metadata": {},
   "source": [
    "# Exercise- #3\n",
    "Were presented to write a program that asks to enter the total SQFT in a tract of land and calculate the #of acres in the tract. \n",
    "\n",
    "I created my code and had to create variables that correlated with the problems and also had to figure out the formula of the calculation. I Did run into a error, saying value error because you cant convert a string to float. So the number is 2 acres, we had to devide 87,120 devided by 43560 and that =2 acres. \n",
    "\n"
   ]
  },
  {
   "cell_type": "code",
   "execution_count": 4,
   "id": "09f056ce",
   "metadata": {},
   "outputs": [
    {
     "name": "stdout",
     "output_type": "stream",
     "text": [
      "Enter the total square feet in the tract of land: 2\n",
      "The tract of land is 0.00 acres.\n"
     ]
    }
   ],
   "source": [
    "# I had to figure out the constant and make a vraible for square feet in an acre\n",
    "SQUARE_FEET_IN_ACRE = 43560\n",
    "\n",
    "# Create a varaible to enter the total square feet\n",
    "total_square_feet = float(input(\"Enter the total square feet in the tract of land: \"))\n",
    "\n",
    "# Calculate the number of acres\n",
    "acres = total_square_feet / SQUARE_FEET_IN_ACRE\n",
    "\n",
    "# Print the results of the calculation\n",
    "print(f\"The tract of land is {acres:.2f} acres.\")\n"
   ]
  },
  {
   "cell_type": "markdown",
   "id": "f64c348c",
   "metadata": {},
   "source": [
    "# Exercise #13\n",
    "were presented to write a program that makes the calculation for the vineyard owner. We must imput the following of the length of the row, amount of space used by end-post, and the amount of space between the vines. \n",
    "\n",
    "\n",
    "These lines of code prompt the user to input the length of the row, the space used by an end-post assembly, and the space_vines, respectively.\n",
    "The input function is used to take user input, and float is used to convert the input to a floating-point number.\n",
    "I used the code code calculates the number of grapevines that will fit in the row using the provided formula: V=(R-2E)/S. \n",
    "Then I printed the code results showing the calculated number of grapevines.  the program takes user inputs for the length of the row, space used by an end-post assembly, and space between vines. It then uses the formula to calculate the number of grapevines that will fit in the row and prints the result. \n"
   ]
  },
  {
   "cell_type": "code",
   "execution_count": 5,
   "id": "97f8e34f",
   "metadata": {},
   "outputs": [
    {
     "name": "stdout",
     "output_type": "stream",
     "text": [
      "Enter the length of the row (in feet): 1200\n",
      "Enter the space used by an end-post assembly (in feet): 35\n",
      "Enter the space between vines (in feet): 2\n",
      "The number of grapevines that will fit in the row is: 565.00\n"
     ]
    }
   ],
   "source": [
    "# Get user inputs\n",
    "row_length = float(input(\"Enter the length of the row (in feet): \"))\n",
    "end_post = float(input(\"Enter the space used by an end-post assembly (in feet): \"))\n",
    "space_vines = float(input(\"Enter the space between vines (in feet): \"))\n",
    "\n",
    "# Calculate the number of grapevines using the formula\n",
    "num_grapevines = (row_length - 2 * end_post) / space_vines\n",
    "\n",
    "# Display the result\n",
    "print(f\"The number of grapevines that will fit in the row is: {num_grapevines:.2f}\")\n"
   ]
  },
  {
   "cell_type": "code",
   "execution_count": null,
   "id": "3209dbcd",
   "metadata": {},
   "outputs": [],
   "source": []
  }
 ],
 "metadata": {
  "kernelspec": {
   "display_name": "Python 3 (ipykernel)",
   "language": "python",
   "name": "python3"
  },
  "language_info": {
   "codemirror_mode": {
    "name": "ipython",
    "version": 3
   },
   "file_extension": ".py",
   "mimetype": "text/x-python",
   "name": "python",
   "nbconvert_exporter": "python",
   "pygments_lexer": "ipython3",
   "version": "3.11.5"
  }
 },
 "nbformat": 4,
 "nbformat_minor": 5
}
