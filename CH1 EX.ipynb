{
 "cells": [
  {
   "cell_type": "markdown",
   "id": "2d7ad0bc",
   "metadata": {},
   "source": [
    "Ch.1 EX\n",
    "\n",
    "problems 1, 3, 4"
   ]
  },
  {
   "cell_type": "markdown",
   "id": "7420ea23",
   "metadata": {},
   "source": [
    "Ex 1 The textbook asks us to use the python statment with the particular string"
   ]
  },
  {
   "cell_type": "code",
   "execution_count": 1,
   "id": "c08ffd98",
   "metadata": {
    "scrolled": true
   },
   "outputs": [
    {
     "name": "stdout",
     "output_type": "stream",
     "text": [
      "This is a test of the Python interpreter.\n"
     ]
    }
   ],
   "source": [
    "#demostrating the Print function.\n",
    "print('This is a test of the Python interpreter.')\n"
   ]
  },
  {
   "cell_type": "code",
   "execution_count": 2,
   "id": "8e0799a6",
   "metadata": {},
   "outputs": [
    {
     "name": "stdout",
     "output_type": "stream",
     "text": [
      "This might work.\n"
     ]
    }
   ],
   "source": [
    "#Demostrating the print function.\n",
    "print('This might work.')"
   ]
  },
  {
   "cell_type": "markdown",
   "id": "5dc9723c",
   "metadata": {},
   "source": [
    "EX3 "
   ]
  },
  {
   "cell_type": "markdown",
   "id": "b481f975",
   "metadata": {},
   "source": [
    "The  textbook wants us to convert the following decimal numbers \n",
    "11 - 1011\n",
    "65- 1000001\n",
    "100- 1100100\n",
    "255- 11111111"
   ]
  },
  {
   "cell_type": "markdown",
   "id": "b293d767",
   "metadata": {},
   "source": [
    "EX4 "
   ]
  },
  {
   "cell_type": "markdown",
   "id": "37b6e6a6",
   "metadata": {},
   "source": [
    "The textbook wants us to convert binary numbers to decimal. \n",
    "1101 = 13 \n",
    "1000 = 8 \n",
    "101011 = 43"
   ]
  }
 ],
 "metadata": {
  "kernelspec": {
   "display_name": "Python 3 (ipykernel)",
   "language": "python",
   "name": "python3"
  },
  "language_info": {
   "codemirror_mode": {
    "name": "ipython",
    "version": 3
   },
   "file_extension": ".py",
   "mimetype": "text/x-python",
   "name": "python",
   "nbconvert_exporter": "python",
   "pygments_lexer": "ipython3",
   "version": "3.11.5"
  }
 },
 "nbformat": 4,
 "nbformat_minor": 5
}
